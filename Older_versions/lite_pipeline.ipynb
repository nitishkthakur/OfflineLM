{
 "cells": [
  {
   "cell_type": "code",
   "execution_count": 3,
   "id": "5f21bc0b",
   "metadata": {},
   "outputs": [],
   "source": [
    "from langchain_experimental.agents.agent_toolkits import create_python_agent   \n",
    "from langchain_experimental.tools.python.tool import PythonREPLTool            \n",
    "from langchain_ollama  import ChatOllama\n",
    "#from langchain import RetrievalQA, PromptTemplate, LLMChain\n",
    "from langchain.embeddings.openai import OpenAIEmbeddings\n",
    "from langchain.vectorstores import Chroma\n",
    "from langchain.agents import initialize_agent, Tool, AgentType\n",
    "from langchain_experimental.tools.python.tool import PythonREPLTool\n",
    "from PyPDF2 import PdfReader   # now works, because the env has PyPDF2 installed :contentReference[oaicite:1]{index=1}\n",
    "from langchain.agents import AgentType"
   ]
  },
  {
   "cell_type": "code",
   "execution_count": 4,
   "id": "dbb35966",
   "metadata": {},
   "outputs": [
    {
     "ename": "ModuleNotFoundError",
     "evalue": "No module named 'langchain_agents'",
     "output_type": "error",
     "traceback": [
      "\u001b[31m---------------------------------------------------------------------------\u001b[39m",
      "\u001b[31mModuleNotFoundError\u001b[39m                       Traceback (most recent call last)",
      "\u001b[36mCell\u001b[39m\u001b[36m \u001b[39m\u001b[32mIn[4]\u001b[39m\u001b[32m, line 1\u001b[39m\n\u001b[32m----> \u001b[39m\u001b[32m1\u001b[39m \u001b[38;5;28;01mfrom\u001b[39;00m\u001b[38;5;250m \u001b[39m\u001b[34;01mlangchain_agents\u001b[39;00m\u001b[38;5;250m \u001b[39m\u001b[38;5;28;01mimport\u001b[39;00m  RAG\n",
      "\u001b[31mModuleNotFoundError\u001b[39m: No module named 'langchain_agents'"
     ]
    }
   ],
   "source": [
    "from langchain_agents import  RAG"
   ]
  },
  {
   "cell_type": "code",
   "execution_count": null,
   "id": "7e081636",
   "metadata": {},
   "outputs": [],
   "source": []
  }
 ],
 "metadata": {
  "kernelspec": {
   "display_name": ".venv",
   "language": "python",
   "name": "python3"
  },
  "language_info": {
   "codemirror_mode": {
    "name": "ipython",
    "version": 3
   },
   "file_extension": ".py",
   "mimetype": "text/x-python",
   "name": "python",
   "nbconvert_exporter": "python",
   "pygments_lexer": "ipython3",
   "version": "3.12.3"
  }
 },
 "nbformat": 4,
 "nbformat_minor": 5
}
